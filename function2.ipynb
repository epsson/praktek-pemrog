{
 "cells": [
  {
   "cell_type": "code",
   "execution_count": 5,
   "id": "57ca505d-0218-4381-a111-5938db974268",
   "metadata": {},
   "outputs": [
    {
     "name": "stdout",
     "output_type": "stream",
     "text": [
      "UKA ATNIC UMAK\n",
      "PYTHON HARI BELAJAR SEDANG INI\n",
      "Ak|_| C1nt4 K4m|_|\n",
      "4ku Cinta Kamu\n"
     ]
    }
   ],
   "source": [
    "# 1. Mereverse setiap kata dalam kalimat\n",
    "def reverse_per_kata(kalimat):\n",
    "    # Membalik urutan karakter pada setiap kata dalam sebuah kalimat.\n",
    "    kata2 = kalimat.split()  # Memecah kalimat menjadi list kata-kata berdasarkan spasi\n",
    "    # Menggunakan list comprehension untuk membalik setiap kata\n",
    "    # kata[::-1] adalah slicing yang menghasilkan versi terbalik dari string 'kata'\n",
    "    dibalik = [kata[::-1] for kata in kata2]\n",
    "    # Menggabungkan kembali list kata-kata yang sudah dibalik menjadi satu string,\n",
    "    # dipisahkan oleh spasi\n",
    "    return ' '.join(dibalik)\n",
    "\n",
    "\n",
    "# 2. Mengurutkan kata berdasarkan indeks list\n",
    "def urutkan_kalimat(kalimat, urutan):\n",
    "   \n",
    "    # Mengurutkan kata-kata dalam sebuah kalimat\n",
    "        str: String kalimat dengan kata-kata yang telah diurutkan.\n",
    "    kata2 = kalimat.split()  # Memecah kalimat menjadi list kata-kata\n",
    "\n",
    "    # Membuat list baru 'hasil' dengan mengambil kata dari 'kata2'\n",
    "    # Karena 'urutan' adalah 1-based dan list Python 0-based, kita gunakan i-1\n",
    "    hasil = [kata2[i - 1] for i in urutan]\n",
    "    # Menggabungkan list kata yang sudah diurutkan menjadi satu string,\n",
    "    # dipisahkan oleh spasi\n",
    "    return ' '.join(hasil)\n",
    "\n",
    "# 3. Mengganti huruf vokal dengan simbol tertentu\n",
    "def ganti_vokal(kalimat, opsi):\n",
    "\n",
    "    # Mengganti huruf vokal dalam kalimat dengan simbol tertentu.\n",
    "    # Pemetaan vokal huruf kecil ke simbol\n",
    "    vokal_map_kecil = {'a': '4', 'i': '1', 'u': '|_|', 'e': '3', 'o': '0'}\n",
    "    # Pemetaan vokal huruf besar ke simbol\n",
    "    vokal_map_besar = {'A': '4', 'I': '1', 'U': '|_|', 'E': '3', 'O': '0'}\n",
    "\n",
    "    hasil = \"\"  # String untuk menyimpan hasil akhir\n",
    "    for huruf in kalimat:  # Iterasi melalui setiap karakter dalam kalimat\n",
    "        # Jika opsi adalah 1 (untuk vokal kecil)\n",
    "        if opsi == 1 and huruf in vokal_map_kecil:\n",
    "            hasil += vokal_map_kecil[huruf]  # Ganti dengan simbol dari map kecil\n",
    "        # Jika opsi adalah 2 (untuk vokal besar) dan huruf adalah vokal besar\n",
    "        elif opsi == 2 and huruf in vokal_map_besar:\n",
    "            hasil += vokal_map_besar[huruf]  # Ganti dengan simbol dari map besar\n",
    "        else:\n",
    "            hasil += huruf  # Jika bukan vokal yang dituju atau bukan vokal\n",
    "    return hasil\n",
    "\n",
    "\n",
    "# Contoh pemanggilan fungsi\n",
    "print(reverse_per_kata(\"AKU CINTA KAMU\"))\n",
    "print(urutkan_kalimat(\"HARI INI SEDANG BELAJAR PYTHON\", [5, 1, 4, 3, 2]))\n",
    "print(ganti_vokal(\"Aku Cinta Kamu\", 1))\n",
    "print(ganti_vokal(\"Aku Cinta Kamu\", 2))"
   ]
  },
  {
   "cell_type": "code",
   "execution_count": null,
   "id": "77b83ad7-c3ab-4229-8b28-a69bbbf44ba3",
   "metadata": {},
   "outputs": [],
   "source": []
  }
 ],
 "metadata": {
  "kernelspec": {
   "display_name": "Python [conda env:base] *",
   "language": "python",
   "name": "conda-base-py"
  },
  "language_info": {
   "codemirror_mode": {
    "name": "ipython",
    "version": 3
   },
   "file_extension": ".py",
   "mimetype": "text/x-python",
   "name": "python",
   "nbconvert_exporter": "python",
   "pygments_lexer": "ipython3",
   "version": "3.12.7"
  }
 },
 "nbformat": 4,
 "nbformat_minor": 5
}
