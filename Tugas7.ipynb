{
 "cells": [
  {
   "cell_type": "markdown",
   "id": "5854a90d-e435-44ae-9e31-3bc520e011b1",
   "metadata": {
    "id": "5854a90d-e435-44ae-9e31-3bc520e011b1"
   },
   "source": [
    "Buatlah program yang meminta pengguna memasukkan usia seseorang, lalu tentukan apakah dia <br>\n",
    "anak-anak (0-12 tahun), remaja (13-17 tahun), dewasa (18-59 tahun), atau lansia (60 tahun ke atas)."
   ]
  },
  {
   "cell_type": "code",
   "execution_count": 7,
   "id": "75a2fdcd-1ef1-45e4-9d79-c6a7cb708a18",
   "metadata": {
    "colab": {
     "base_uri": "https://localhost:8080/",
     "height": 106
    },
    "id": "75a2fdcd-1ef1-45e4-9d79-c6a7cb708a18",
    "outputId": "c3808fbb-7980-4e6c-85bc-1ee465cca5ec"
   },
   "outputs": [
    {
     "name": "stdin",
     "output_type": "stream",
     "text": [
      "masukan umur anda: 88\n"
     ]
    },
    {
     "name": "stdout",
     "output_type": "stream",
     "text": [
      "lansia\n"
     ]
    }
   ],
   "source": [
    "# umur\n",
    "umur = int(input(\"masukan umur anda:\"))\n",
    "\n",
    "if umur >= 0 and umur <= 12:\n",
    "  print(\"anak-anak\")\n",
    "elif umur >= 13 and umur <= 17:\n",
    "    print(\"remaja\")\n",
    "elif umur >= 18 and umur <= 59:\n",
    "    print(\"dewasa\")\n",
    "else: print(\"lansia\")"
   ]
  },
  {
   "cell_type": "markdown",
   "id": "68c95835-e4ad-4bd0-89ca-168200893cf7",
   "metadata": {
    "id": "68c95835-e4ad-4bd0-89ca-168200893cf7"
   },
   "source": [
    "Sebuah taman hiburan memiliki aturan harga tiket berdasarkan usia:\n",
    "<ol>\n",
    "<li>Anak-anak (0-12 tahun): Rp 10.000</li>\n",
    "<li>Remaja (13-17 tahun): Rp 15.000</li>\n",
    "<li>Dewasa (18-59 tahun): Rp 25.000</li>\n",
    "<li>Lansia (60 tahun ke atas): Gratis</li>\n",
    "</ol>\n",
    "Buat program untuk menentukan harga tiket berdasarkan usia yang dimasukkan pengguna dan total harga yang harus dibayar, jika terdapat 3 input seperti berikut ini"
   ]
  },
  {
   "cell_type": "code",
   "execution_count": 46,
   "id": "66ee699f-8355-48e0-939a-dcc73ba4425b",
   "metadata": {
    "id": "66ee699f-8355-48e0-939a-dcc73ba4425b"
   },
   "outputs": [
    {
     "name": "stdin",
     "output_type": "stream",
     "text": [
      "Isikan Umur Tiket 1:  22\n",
      "Isikan Umur Tiket 2:  5\n",
      "Isikan Umur Tiket 3:  80\n"
     ]
    },
    {
     "name": "stdout",
     "output_type": "stream",
     "text": [
      "Dewasa\n",
      "anak-anak\n",
      "Lansia\n",
      "\n",
      "Harga tiket 1 Rp. 25000: ,\n",
      "Harga tiket 2 Rp. 10000: ,\n",
      "Harga tiket 3 Rp. 0: ,\n",
      "total tiket yang harus di bayar Rp. 35000: ,\n"
     ]
    }
   ],
   "source": [
    "tiket1 = int(input(\"Isikan Umur Tiket 1: \"))\n",
    "tiket2 = int(input(\"Isikan Umur Tiket 2: \"))\n",
    "tiket3 = int(input(\"Isikan Umur Tiket 3: \"))\n",
    "\n",
    "# add code here ...\n",
    "def harga_tiket(umur):\n",
    "    if umur >= 0 and umur <= 12:\n",
    "        print(\"anak-anak\")\n",
    "        return 10000\n",
    "    elif umur >= 13 and umur <= 17:\n",
    "        print(\"remaja\")\n",
    "        return 15000\n",
    "    elif umur >= 18 and umur <= 59:\n",
    "        print(\"Dewasa\")\n",
    "        return 25000\n",
    "    elif umur >= 60:\n",
    "        print(\"Lansia\")\n",
    "        return 0\n",
    "    else:\n",
    "        return 0\n",
    "\n",
    "harga1 = harga_tiket(tiket1)\n",
    "harga2 = harga_tiket(tiket2)\n",
    "harga3 = harga_tiket(tiket3)\n",
    "\n",
    "total = harga1 + harga2 + harga3\n",
    "\n",
    "print(f\"\\nHarga tiket 1 Rp. {harga1}: ,\")\n",
    "print(f\"Harga tiket 2 Rp. {harga2}: ,\")\n",
    "print(f\"Harga tiket 3 Rp. {harga3}: ,\")\n",
    "print(f\"total tiket yang harus di bayar Rp. {total}: ,\")\n"
   ]
  },
  {
   "cell_type": "markdown",
   "id": "82eac646-d930-42f5-a253-03f84c32f943",
   "metadata": {
    "id": "82eac646-d930-42f5-a253-03f84c32f943"
   },
   "source": [
    "Sebuah restoran memiliki diskon khusus:\n",
    "Anak-anak (0-12 tahun) diskon 50%\n",
    "Lansia (60 tahun ke atas) diskon 30%\n",
    "Selain itu, tidak ada diskon\n",
    "Buat program untuk menghitung harga yang harus dibayar setelah diskon diberikan."
   ]
  },
  {
   "cell_type": "code",
   "execution_count": 56,
   "id": "feb31fca-fce6-4e5f-a25f-8752e7a0033b",
   "metadata": {
    "id": "feb31fca-fce6-4e5f-a25f-8752e7a0033b"
   },
   "outputs": [
    {
     "name": "stdin",
     "output_type": "stream",
     "text": [
      "total makan: 56000\n",
      "Masukan umur: 70\n"
     ]
    },
    {
     "name": "stdout",
     "output_type": "stream",
     "text": [
      "lansia\n",
      "\n",
      "status: lansia\n",
      "\n",
      "total harga makan: 56000\n",
      "\n",
      "diskon: 30%\n",
      "\n",
      "harga akhir: 39,200.0\n"
     ]
    }
   ],
   "source": [
    "# add code here ...\n",
    "harga_makan = int(input(\"total makan:\"))\n",
    "\n",
    "umur = int(input(\"Masukan umur:\"))\n",
    "\n",
    "if 0 <= umur <= 12:\n",
    "    diskon = 0.5\n",
    "    status = \"anak-anak\"\n",
    "    print(\"anak-anak\")\n",
    "elif umur >= 60:\n",
    "    diskon = 0.3\n",
    "    status = \"lansia\"\n",
    "    print(\"lansia\")\n",
    "else:\n",
    "    diskon = 0\n",
    "    status = \"remaja,dewasa\"\n",
    "    print(\"remaja,dewasa\")\n",
    "\n",
    "potongan = harga_makan * diskon\n",
    "harga_final = harga_makan - potongan\n",
    "\n",
    "print(f\"\\nstatus: {status}\")\n",
    "print(f\"\\ntotal harga makan: {harga_makan}\")\n",
    "print(f\"\\ndiskon: {int(diskon * 100)}%\")\n",
    "print(f\"\\nharga akhir: {harga_final:,}\")"
   ]
  },
  {
   "cell_type": "markdown",
   "id": "aee8bab3-9bf1-4732-97e1-7abb32ce7184",
   "metadata": {
    "id": "aee8bab3-9bf1-4732-97e1-7abb32ce7184"
   },
   "source": [
    "Program beasiswa:\n",
    "<ol>\n",
    "<li>Jika nilai rapor ≥ 90 dan penghasilan orang tua < Rp 5.000.000 → Beasiswa Penuh</li>\n",
    "<li>Jika nilai rapor ≥ 85 dan penghasilan orang tua < Rp 8.000.000 → Beasiswa 50%</li>\n",
    "<li>Jika tidak memenuhi syarat di atas → Tidak mendapatkan beasiswa</li>\n",
    "</ol>"
   ]
  },
  {
   "cell_type": "code",
   "execution_count": 73,
   "id": "55a9ec4f-531b-4326-bca3-e0d19b4be47d",
   "metadata": {
    "id": "55a9ec4f-531b-4326-bca3-e0d19b4be47d"
   },
   "outputs": [
    {
     "name": "stdin",
     "output_type": "stream",
     "text": [
      "masukan nilai rapot:  86.6\n",
      "penghasilan orangtua:  4000000\n"
     ]
    },
    {
     "name": "stdout",
     "output_type": "stream",
     "text": [
      "\n",
      "dapat beasiswa: Beasiswa 50%\n"
     ]
    }
   ],
   "source": [
    "# add code here ...\n",
    "nilai = float(input(\"masukan nilai rapot: \"))\n",
    "gaji = int(input(\"penghasilan orangtua: \"))\n",
    "\n",
    "if nilai >= 90 and gaji < 5000000:\n",
    "    beasiswa = \"Beasiswa Penuh\"\n",
    "elif nilai >= 85 and gaji < 8000000:\n",
    "    beasiswa = \"Beasiswa 50%\"\n",
    "else: \n",
    "    beasiswa = \"tidak dapat beasiswa\"\n",
    "    \n",
    "print(f\"\\ndapat beasiswa: {beasiswa}\")"
   ]
  },
  {
   "cell_type": "markdown",
   "id": "57ea9062-e1af-4650-8eab-a47a01a9d04f",
   "metadata": {
    "id": "57ea9062-e1af-4650-8eab-a47a01a9d04f"
   },
   "source": [
    "Suatu aplikasi streaming memiliki batasan usia:\n",
    "<ol>\n",
    "<li>Film Semua Umur: Bisa ditonton oleh siapa saja</li>\n",
    "<li>Film Remaja: Hanya untuk usia ≥ 13 tahun</li>\n",
    "<li>Film Dewasa: Hanya untuk usia ≥ 18 tahun</li>\n",
    "</ol>\n",
    "Buat program yang meminta input usia dan kategori film, lalu tentukan apakah seseorang boleh menonton film tersebut atau tidak."
   ]
  },
  {
   "cell_type": "code",
   "execution_count": 32,
   "id": "2c00f464-3390-4c94-9ec2-4b63c55b871b",
   "metadata": {
    "id": "2c00f464-3390-4c94-9ec2-4b63c55b871b"
   },
   "outputs": [
    {
     "name": "stdin",
     "output_type": "stream",
     "text": [
      "masukan umur anda:  11\n",
      "kategori film(AA/T/M) aa\n"
     ]
    },
    {
     "name": "stdout",
     "output_type": "stream",
     "text": [
      "Result: Allow\n"
     ]
    }
   ],
   "source": [
    "# add code here ...\n",
    "\n",
    "umur = int(input(\"masukan umur anda: \" ))\n",
    "kategori = input(\"kategori film(AA/T/M)\")\n",
    "\n",
    "kategori = kategori.lower()\n",
    "\n",
    "if kategori == \"aa\":\n",
    "    hasil = \"Allow\"\n",
    "elif kategori == \"t\":\n",
    "    if umur >= 13:\n",
    "        hasil = \"Allow\"\n",
    "    else:\n",
    "        hasil = \"Not Allowed(Need to be 13 or more\"\n",
    "elif kategori == \"m\":\n",
    "    if umur >= 18:\n",
    "        hasil = \"allow\"\n",
    "    else:\n",
    "        hasil = \"Not Allowed(Need to be 18 or more)\"\n",
    "else:\n",
    "    hasil = \"unrecognize film\"\n",
    "\n",
    "print(f\"Result: {hasil}\")"
   ]
  },
  {
   "cell_type": "markdown",
   "id": "7b87c04c-85f0-4dc1-a14a-f67d8b2c4e6a",
   "metadata": {
    "id": "7b87c04c-85f0-4dc1-a14a-f67d8b2c4e6a"
   },
   "source": [
    "Sebuah toko memberikan diskon berdasarkan jumlah pembelian:\n",
    "<ol>\n",
    "<li>Jika total belanja ≥ Rp 500.000 → Diskon 20%</li>\n",
    "<li>Jika total belanja ≥ Rp 250.000 → Diskon 10%</li>\n",
    "<li>Jika total belanja < Rp 250.000 → Tidak ada diskon</li>\n",
    "</ol>\n",
    "Hitung harga akhir setelah diskon."
   ]
  },
  {
   "cell_type": "code",
   "execution_count": 45,
   "id": "966923a0-c87b-4559-8fc1-3090d448ad4a",
   "metadata": {
    "id": "966923a0-c87b-4559-8fc1-3090d448ad4a"
   },
   "outputs": [
    {
     "name": "stdin",
     "output_type": "stream",
     "text": [
      "Total belanja(Rp): 600000000\n"
     ]
    },
    {
     "name": "stdout",
     "output_type": "stream",
     "text": [
      "Total belanja: 600,000,000 \n",
      "Diskon belanja: 20%\n",
      "potongan: 120,000,000\n",
      "Total belanja: 480,000,000\n"
     ]
    }
   ],
   "source": [
    "# add code here..........\n",
    "\n",
    "total_belanja = int(input(\"Total belanja(Rp):\"))\n",
    "\n",
    "if total_belanja >= 500000:\n",
    "    diskon = 0.2\n",
    "elif total_belanja >= 250000:\n",
    "    diskon = 0.1\n",
    "else:\n",
    "    diskon = 0\n",
    "\n",
    "total_potong = total_belanja * diskon\n",
    "harga_final = total_belanja - total_potong\n",
    "\n",
    "print(f\"Total belanja: {total_belanja:,} \")\n",
    "print(f\"Diskon belanja: {int(diskon * 100)}%\")\n",
    "print(f\"potongan: {int(total_potong):,}\")\n",
    "print(f\"Harga final: {int(harga_final):,}\")\n"
   ]
  },
  {
   "cell_type": "markdown",
   "id": "88e22629-48cc-4917-86e7-2bf4df863182",
   "metadata": {
    "id": "88e22629-48cc-4917-86e7-2bf4df863182"
   },
   "source": [
    "Program parkir:\n",
    "<ol>\n",
    "<li>Mobil: Rp 5.000 per jam</li>\n",
    "<li>Motor: Rp 2.000 per jam</li>\n",
    "<li>Jika parkir lebih dari 5 jam, ada biaya tambahan Rp 10.000</li>\n",
    "</ol>\n",
    "Hitung total biaya parkir berdasarkan jenis kendaraan dan durasi parkir."
   ]
  },
  {
   "cell_type": "code",
   "execution_count": 61,
   "id": "b8f7b918-70a1-4a88-945f-406c4aafbec7",
   "metadata": {
    "id": "b8f7b918-70a1-4a88-945f-406c4aafbec7"
   },
   "outputs": [
    {
     "name": "stdin",
     "output_type": "stream",
     "text": [
      "kendaraan(Mobil/Motor):  motor\n",
      "Lama parkir kerdaraan(jam):  4\n"
     ]
    },
    {
     "name": "stdout",
     "output_type": "stream",
     "text": [
      "Jenis kendaraan: motor\n",
      "lama parkir: 4 jam\n",
      "bayar parkir: 8000\n"
     ]
    }
   ],
   "source": [
    "# add code here.....\n",
    "\n",
    "jenis_Kendaraan = input(\"kendaraan(Mobil/Motor): \").strip().lower()\n",
    "total_durasi = int(input(\"Lama parkir kerdaraan(jam): \"))\n",
    "\n",
    "if jenis_Kendaraan == \"mobil\",:\n",
    "    tarif_jam = 5000\n",
    "elif jenis_Kendaraan == \"motor\":\n",
    "    tarif_jam = 2000\n",
    "else:\n",
    "    tarif_jam = 0\n",
    "\n",
    "if tarif_jam > 0:\n",
    "    total_bayar = total_durasi * tarif_jam\n",
    "    \n",
    "    if total_durasi > 5:\n",
    "        total_bayar += 10000\n",
    "\n",
    "    \n",
    "    print(f\"Jenis kendaraan: {jenis_Kendaraan}\")\n",
    "    print(f\"lama parkir: {total_durasi} jam\")\n",
    "    print(f\"bayar parkir: {total_bayar}\")\n",
    "else:\n",
    "    print(f\"\\nBukan kendaraan legal jalan\")"
   ]
  },
  {
   "cell_type": "markdown",
   "id": "2db1d34c-3f80-4f8c-aaf2-910c38c05414",
   "metadata": {
    "id": "2db1d34c-3f80-4f8c-aaf2-910c38c05414"
   },
   "source": [
    "Aplikasi transportasi online memiliki tarif sebagai berikut:\n",
    "<ol>\n",
    "<li>Jika jarak ≤ 5 km → Rp 5.000/km</li>\n",
    "<li>Jika jarak 6-10 km → Rp 4.000/km</li>\n",
    "<li>Jika jarak > 10 km → Rp 3.000/km</li>\n",
    "</ol>\n",
    "Hitung tarif perjalanan berdasarkan jarak yang dimasukkan pengguna.\n"
   ]
  },
  {
   "cell_type": "code",
   "execution_count": 68,
   "id": "5a5b719e-76f6-4f45-a8e4-07853113ce9e",
   "metadata": {
    "id": "5a5b719e-76f6-4f45-a8e4-07853113ce9e"
   },
   "outputs": [
    {
     "name": "stdin",
     "output_type": "stream",
     "text": [
      "jarak perjalanan (km):  4\n"
     ]
    },
    {
     "name": "stdout",
     "output_type": "stream",
     "text": [
      "\n",
      "Jarak Perjalanan: 4 km\n",
      "Tarif per km: Rp 5,000\n",
      "Total Tarif Perjalanan: Rp 20,000\n"
     ]
    }
   ],
   "source": [
    "# add code here...\n",
    "\n",
    "jarak = float(input(\"jarak perjalanan (km): \"))\n",
    "\n",
    "if jarak <= 5:\n",
    "    tarif_km = 5000\n",
    "elif jarak <= 10:\n",
    "    tarif_km = 4000\n",
    "else:\n",
    "    tarif_km = 3000\n",
    "\n",
    "total_tagihan = jarak * tarif_km\n",
    "\n",
    "print(f\"\\nJarak Perjalanan: {jarak} km\")\n",
    "print(f\"Tarif per km: Rp {tarif_km:,}\")\n",
    "print(f\"Total Tarif Perjalanan: Rp {int(total_tagihan):,}\")"
   ]
  },
  {
   "cell_type": "markdown",
   "id": "d1cf7b61-e309-40ec-b1fd-4bc56550a10d",
   "metadata": {
    "id": "d1cf7b61-e309-40ec-b1fd-4bc56550a10d"
   },
   "source": [
    "Buatlah sebuah sistem penerimaan calon programmer yang akan menerima dua nilai ( nilai coding dan nilai interview). Untuk penilaian test coding skala penilaian yang diberikan dimulai dari 0 hingga 100 dengan sistem penilaian:\n",
    "<ol>\n",
    "<li>ketika seseorang mendapatkan nilai lebih dari 80 maka peserta tersebut akan mendapatkan hasil tes LOLOS</li>\n",
    "<li>ketika sesorang mendapatkan nilai diantara 60 hingga 80 maka peserta tersebut mendapatkan hasil tes DIPERTIMBANGKAN</li>\n",
    "<li>ketika seseorang mendapatkan nilai dibawah 60 maka peserta tersebut mendapatkan hasil tes GAGAL.</li>\n",
    "</ol>\n",
    "\n",
    "Sedangkan untuk penilaian interview adalah\n",
    "<ol>\n",
    "<li>ketika nilai yang diberikan kepada seseorang tersebut adalah \"A\" atau \"B\" maka peserta tersebut dianggap LOLOS interview</li>\n",
    "\n",
    "<li>selain kedua nilai tersebut maka peserta dianggap GAGAL tes interview.</li>\n",
    "</ol>\n",
    "\n",
    "Ketika calon programmer mendapatkan nilai coding LOLOS atau DIPERTIMBANGKAN dan juga LOLOS test interview maka tampilkanlah pesan \"Selamat Kamu Berhasil Menjadi Calon Programmer\". Jika tidak maka tampilkanlah pesan \"Maaf Kamu Belum Berhasil Menjadi Calon Programmer\""
   ]
  },
  {
   "cell_type": "code",
   "execution_count": 90,
   "id": "7aeb0f89-e957-4c0d-a29c-139fc269e1c0",
   "metadata": {
    "id": "7aeb0f89-e957-4c0d-a29c-139fc269e1c0"
   },
   "outputs": [
    {
     "name": "stdin",
     "output_type": "stream",
     "text": [
      "Masukkan nilai coding (0-100):  77\n",
      "Masukkan nilai interview (A/B):  A\n"
     ]
    },
    {
     "name": "stdout",
     "output_type": "stream",
     "text": [
      "\n",
      "Selamat! Kamu berhasil menjadi calon programmer.\n"
     ]
    }
   ],
   "source": [
    "# add code here\n",
    "nilai_code = int(input(\"Masukkan nilai coding (0-100): \"))\n",
    "nilai_interview = input(\"Masukkan nilai interview (A/B): \").upper()\n",
    "\n",
    "if nilai_code > 80:\n",
    "    hasil_code = \"LOLOS\"\n",
    "elif nilai_code >= 60:\n",
    "    hasil_code = \"DIPERTIMBANGKAN\"\n",
    "else:\n",
    "    hasil_code = \"GAGAL\"\n",
    "\n",
    "if nilai_interview in [\"A\", \"B\"]:\n",
    "    hasil_interview = \"LOLOS\"\n",
    "else:\n",
    "    hasil_interview = \"GAGAL\"\n",
    "\n",
    "if hasil_code == \"LOLOS\" or hasil_code == \"DIPERTIMBANGKAN\" and hasil_interview == \"LOLOS\":\n",
    "    print(\"\\nSelamat! Kamu berhasil menjadi calon programmer.\")\n",
    "else:\n",
    "    print(\"\\nMaaf, kamu belum berhasil menjadi calon programmer.\")"
   ]
  },
  {
   "cell_type": "markdown",
   "id": "364647af-075b-4bc0-8c83-4c816415ff74",
   "metadata": {
    "id": "364647af-075b-4bc0-8c83-4c816415ff74"
   },
   "source": [
    "Sebuah klub sepak bola “PERSEGI FC” mempunyai aturan dalam memberikan nomor punggung bagi para pemainnya. Para pemain diperbolehkan mempunyai posisi lebih dari 1. Berikut adalah beberapa\n",
    "aturannya:\n",
    "<ol>\n",
    "<li>Untuk nomor punggung genap, digunakan untuk posisi “target attacker”</li>\n",
    "<li>Untuk nomor punggung genap antara 50 – 100, digunakan untuk pemain yang “berhak dipilih menjadi capten team”</li>\n",
    "<li>Untuk nomor punggung ganjil, digunakan untuk posisi “defender”</li>\n",
    "<li>Untuk nomor punggung ganjil lebih dari 90, digunakan untuk posisi “Playmaker”</li>\n",
    "<li>Untuk nomor punggung ganjil kelipatan dari 3 dan 5, digunakan untuk posisi “keeper”</li>\n",
    "</ol>\n",
    "Buatlah program untuk melakukan pengecekan sebuah nomor punggung dapat berfungsi sebagai posisi apa saja."
   ]
  },
  {
   "cell_type": "code",
   "execution_count": null,
   "id": "2d1d5589-126b-44e3-9d9e-1bed865ff65c",
   "metadata": {
    "id": "2d1d5589-126b-44e3-9d9e-1bed865ff65c"
   },
   "outputs": [],
   "source": [
    "# add code here\n",
    "\n",
    "def cek_posisi(nomor):\n",
    "    posisi = []\n",
    "    \n",
    "    if nomor % 2 == 0:\n",
    "        posisi.append(\"Target Attacker\")\n",
    "        if 50 <= nomor <= 100:\n",
    "            posisi.append(\"Berhak dipilih menjadi Captain Team\")\n",
    "    \n",
    "    if nomor % 2 == 1:\n",
    "        posisi.append(\"Defender\")\n",
    "        if nomor > 90:\n",
    "            posisi.append(\"Playmaker\")\n",
    "        if nomor % 3 == 0 and nomor % 5 == 0:\n",
    "            posisi.append(\"Keeper\")\n",
    "    \n",
    "    return posisi if posisi else [\"Tidak ada posisi yang sesuai\"]\n",
    "\n",
    "# Contoh penggunaan\n",
    "nomor_punggung = int(input(\"Masukkan nomor punggung: \"))\n",
    "posisi_pemain = cek_posisi(nomor_punggung)\n",
    "print(f\"Nomor {nomor_punggung} dapat berfungsi sebagai:\\n- {', '.join(posisi_pemain)}\")\n"
   ]
  },
  {
   "cell_type": "code",
   "execution_count": null,
   "id": "de3eb426-71b8-49ee-8b35-886bec345eec",
   "metadata": {},
   "outputs": [],
   "source": []
  }
 ],
 "metadata": {
  "colab": {
   "provenance": []
  },
  "kernelspec": {
   "display_name": "Python [conda env:base] *",
   "language": "python",
   "name": "conda-base-py"
  },
  "language_info": {
   "codemirror_mode": {
    "name": "ipython",
    "version": 3
   },
   "file_extension": ".py",
   "mimetype": "text/x-python",
   "name": "python",
   "nbconvert_exporter": "python",
   "pygments_lexer": "ipython3",
   "version": "3.12.7"
  }
 },
 "nbformat": 4,
 "nbformat_minor": 5
}
