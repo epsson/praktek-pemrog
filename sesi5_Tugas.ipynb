{
 "cells": [
  {
   "cell_type": "code",
   "execution_count": 6,
   "id": "48f279f0-4a1c-4aac-81ed-fd7d48845902",
   "metadata": {},
   "outputs": [
    {
     "name": "stdin",
     "output_type": "stream",
     "text": [
      "masukan Nama:  ibnu\n",
      "umur:  19\n",
      "masukan alamat rumah:  cikole\n"
     ]
    },
    {
     "name": "stdout",
     "output_type": "stream",
     "text": [
      "Nama kamu adalah ibnu | Dan umurmu adalah 19 | Alamat rumahmu adalah cikole\n"
     ]
    }
   ],
   "source": [
    "nama = input(\"masukan Nama: \")\n",
    "umur = int(input(\"umur: \"))\n",
    "alamat = input(\"masukan alamat rumah: \")\n",
    "\n",
    "print(\"Nama kamu adalah {} | Dan umurmu adalah {} | Alamat rumahmu adalah {}\".format(nama, umur, alamat))\n",
    "     "
   ]
  },
  {
   "cell_type": "code",
   "execution_count": 38,
   "id": "7ccd0176-4b63-4ff5-afe1-105e697ac288",
   "metadata": {},
   "outputs": [
    {
     "name": "stdout",
     "output_type": "stream",
     "text": [
      "q.  putra nusa \n",
      "w.  NIVERSITAS NSA PTRA SKABUMI\n",
      "e.  SUKABUMI PUTRA NUSA UNIVERSITAS\n",
      "r.  UNPS\n",
      "t.  TAS SA PU BUMI\n"
     ]
    }
   ],
   "source": [
    "uni = \"UNIVERSITAS NUSA PUTRA SUKABUMI\"\n",
    "\n",
    "# a. putra nusa\n",
    "q = uni[17:23] + \"\" + uni[12:17]\n",
    "print(\"q. \", q.lower())\n",
    "\n",
    "# b. NIVERSITAS NSA PTRA SKABMI\n",
    "w = uni[1:11] + \" \" + uni[12] + uni[14:16] + \" \" + uni[17] + uni[19:22] + \" \" + uni[23] + uni[25:]\n",
    "print(\"w. \", w)\n",
    "\n",
    "# c. SUKABUMI PUTRA NUSA UNIVERSITAS\n",
    "e = uni[23:] + \" \"+ uni[17:22] + \" \" + uni[12:16] + \" \" + uni[0:11]\n",
    "print(\"e. \", e)\n",
    "\n",
    "# d. UNPS\n",
    "r = uni[0] + uni[12] + uni[17] + uni[23]\n",
    "print(\"r. \", r)\n",
    "\n",
    "# e. TAS SAPU BUMI\n",
    "t = uni[8:11] + \" \" + uni[14:19] + \" \" + uni[27:]\n",
    "print(\"t. \", t)"
   ]
  },
  {
   "cell_type": "code",
   "execution_count": null,
   "id": "cc4f7b97-5ddd-451c-9350-d90615478b1e",
   "metadata": {},
   "outputs": [],
   "source": []
  },
  {
   "cell_type": "code",
   "execution_count": null,
   "id": "98dded13-aac9-4589-a828-22dca28d6d03",
   "metadata": {},
   "outputs": [],
   "source": []
  },
  {
   "cell_type": "code",
   "execution_count": null,
   "id": "65c6f461-36c8-48da-b9fd-ae1cbbabcc8d",
   "metadata": {},
   "outputs": [],
   "source": []
  }
 ],
 "metadata": {
  "kernelspec": {
   "display_name": "Python [conda env:base] *",
   "language": "python",
   "name": "conda-base-py"
  },
  "language_info": {
   "codemirror_mode": {
    "name": "ipython",
    "version": 3
   },
   "file_extension": ".py",
   "mimetype": "text/x-python",
   "name": "python",
   "nbconvert_exporter": "python",
   "pygments_lexer": "ipython3",
   "version": "3.12.7"
  }
 },
 "nbformat": 4,
 "nbformat_minor": 5
}
