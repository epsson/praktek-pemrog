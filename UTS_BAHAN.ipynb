{
 "cells": [
  {
   "cell_type": "code",
   "execution_count": 13,
   "id": "3b1aa7c0-f33e-4813-bfab-c6f43fcbef18",
   "metadata": {},
   "outputs": [
    {
     "name": "stdin",
     "output_type": "stream",
     "text": [
      "Masukkan sebuah bilangan bulat:  54\n"
     ]
    },
    {
     "name": "stdout",
     "output_type": "stream",
     "text": [
      "54 adalah bilangan spesial.\n"
     ]
    }
   ],
   "source": [
    "def cek_bilangan_spesial(angka):\n",
    "  \n",
    "  angka_str = str(angka)\n",
    "  jumlah_digit = 0\n",
    "  for digit in angka_str:\n",
    "    jumlah_digit += int(digit)\n",
    "\n",
    "  if angka % jumlah_digit == 0:\n",
    "    return True\n",
    "  else:\n",
    "    return False\n",
    "\n",
    "# Contoh penggunaan program\n",
    "bilangan = int(input(\"Masukkan sebuah bilangan bulat: \"))\n",
    "\n",
    "if cek_bilangan_spesial(bilangan):\n",
    "  print(f\"{bilangan} adalah bilangan spesial.\")\n",
    "else:\n",
    "  print(f\"{bilangan} bukan bilangan spesial.\")"
   ]
  },
  {
   "cell_type": "code",
   "execution_count": 17,
   "id": "e580cb51-94d5-4350-a435-d54d56bb8c37",
   "metadata": {},
   "outputs": [
    {
     "name": "stdin",
     "output_type": "stream",
     "text": [
      "Masukkan sebuah kalimat:  aku kepingin lemper\n"
     ]
    },
    {
     "name": "stdout",
     "output_type": "stream",
     "text": [
      "Kalimat setelah penggantian:\n",
      "4ku k3pingin 73mp3r\n"
     ]
    }
   ],
   "source": [
    "def ganti_huruf_sederhana(kalimat):\n",
    "  \"\"\"\n",
    "  Mengganti huruf 'A', 'a', 'E', 'e', 'S', 's', 'L', 'l' dengan angka tertentu\n",
    "  menggunakan metode replace().\n",
    "\n",
    "  Args:\n",
    "    kalimat: String kalimat yang akan dimodifikasi.\n",
    "\n",
    "  Returns:\n",
    "    String kalimat dengan huruf yang sudah diganti.\n",
    "  \"\"\"\n",
    "  kalimat = kalimat.replace('A', '4')\n",
    "  kalimat = kalimat.replace('a', '4')\n",
    "  kalimat = kalimat.replace('E', '3')\n",
    "  kalimat = kalimat.replace('e', '3')\n",
    "  kalimat = kalimat.replace('S', '5')\n",
    "  kalimat = kalimat.replace('s', '5')\n",
    "  kalimat = kalimat.replace('L', '7')\n",
    "  kalimat = kalimat.replace('l', '7')\n",
    "  return kalimat\n",
    "\n",
    "# Meminta input kalimat dari pengguna\n",
    "input_kalimat = input(\"Masukkan sebuah kalimat: \")\n",
    "\n",
    "# Memanggil fungsi untuk mengganti huruf\n",
    "kalimat_baru = ganti_huruf_sederhana(input_kalimat)\n",
    "\n",
    "# Menampilkan hasil kalimat yang sudah diubah\n",
    "print(\"Kalimat setelah penggantian:\")\n",
    "print(kalimat_baru)"
   ]
  },
  {
   "cell_type": "code",
   "execution_count": null,
   "id": "1b7b011a-34ca-4518-8314-7c96ca794f5a",
   "metadata": {},
   "outputs": [],
   "source": []
  }
 ],
 "metadata": {
  "kernelspec": {
   "display_name": "Python [conda env:base] *",
   "language": "python",
   "name": "conda-base-py"
  },
  "language_info": {
   "codemirror_mode": {
    "name": "ipython",
    "version": 3
   },
   "file_extension": ".py",
   "mimetype": "text/x-python",
   "name": "python",
   "nbconvert_exporter": "python",
   "pygments_lexer": "ipython3",
   "version": "3.12.7"
  }
 },
 "nbformat": 4,
 "nbformat_minor": 5
}
