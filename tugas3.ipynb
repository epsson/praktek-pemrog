{
 "cells": [
  {
   "cell_type": "code",
   "execution_count": 1,
   "id": "01a5394b-914d-47e3-9900-bcfcd3ccd5cf",
   "metadata": {},
   "outputs": [
    {
     "name": "stdin",
     "output_type": "stream",
     "text": [
      "Place First Input 3\n",
      "Place Second Input 5\n"
     ]
    },
    {
     "name": "stdout",
     "output_type": "stream",
     "text": [
      "Hasil Tambah 3 + 5 = 8\n",
      "Hasil Kurang 3 - 5 = -2\n",
      "Hasil Kali 3 * 5 = 15\n",
      "Hasil Pangkat 3 ^ 5 = 243\n",
      "Hasil Bagi 3 / 5 = 0.6\n",
      "Hasil Mod 3 % 5 = 3\n",
      "Hasil Bagi Bulat 3 / 5 = 0\n"
     ]
    }
   ],
   "source": [
    "#Operation Aritmatic\n",
    "\n",
    "x = int(input(\"Place First Input\"))\n",
    "y = int(input(\"Place Second Input\"))\n",
    "\n",
    "hasilTambah = x + y\n",
    "hasilKurang = x - y\n",
    "hasilKali = x * y\n",
    "hasilPangkat = x ** y\n",
    "hasilBagi = x / y\n",
    "hasilMod = x % y\n",
    "hasilBagiBulat = x // y\n",
    "\n",
    "print(\"Hasil Tambah\",x,\"+\",y,\"=\", hasilTambah)\n",
    "print(\"Hasil Kurang\",x,\"-\",y,\"=\", hasilKurang)\n",
    "print(\"Hasil Kali\",x,\"*\",y,\"=\", hasilKali)\n",
    "print(\"Hasil Pangkat\",x,\"^\",y,\"=\", hasilPangkat)\n",
    "print(\"Hasil Bagi\",x,\"/\",y,\"=\", hasilBagi)\n",
    "print(\"Hasil Mod\",x,\"%\",y,\"=\", hasilMod)\n",
    "print(\"Hasil Bagi Bulat\",x,\"/\",y,\"=\", hasilBagiBulat)"
   ]
  },
  {
   "cell_type": "code",
   "execution_count": 5,
   "id": "af10900f-80c5-4197-9771-0e5dd885b256",
   "metadata": {},
   "outputs": [
    {
     "name": "stdin",
     "output_type": "stream",
     "text": [
      "Input First Value 3\n",
      "Input Second Value 5\n"
     ]
    },
    {
     "name": "stdout",
     "output_type": "stream",
     "text": [
      "Is 3 equal to 5 = False\n",
      "Is 3 less than 5 = True\n",
      "Is 3 less equal than 5 = True\n",
      "Is 3 bigger than 5 = False\n",
      "Is 3 bigger equal than 5 = False\n",
      "Is 3 not equal to 5 = True\n"
     ]
    }
   ],
   "source": [
    "#Perbandingan\n",
    "value = int(input(\"Input First Value\"))\n",
    "value2 = int(input(\"Input Second Value\"))\n",
    "\n",
    "print(\"Is\",value, \"equal to\", value2,\"=\",value == value2)\n",
    "print(\"Is\",value, \"less than\", value2,\"=\",value < value2)\n",
    "print(\"Is\",value, \"less equal than\", value2,\"=\",value <= value2)\n",
    "print(\"Is\",value, \"bigger than\", value2,\"=\",value > value2)\n",
    "print(\"Is\",value, \"bigger equal than\", value2,\"=\",value >= value2)\n",
    "print(\"Is\",value, \"not equal to\", value2,\"=\",value != value2)"
   ]
  },
  {
   "cell_type": "code",
   "execution_count": 11,
   "id": "16deaddb-0b7a-4f50-a34e-49b60835fc1a",
   "metadata": {},
   "outputs": [
    {
     "name": "stdin",
     "output_type": "stream",
     "text": [
      "Input First value 0\n",
      "Input Second value 0\n"
     ]
    },
    {
     "name": "stdout",
     "output_type": "stream",
     "text": [
      "0\n",
      "0\n",
      "True\n",
      "True\n",
      "True\n"
     ]
    }
   ],
   "source": [
    "#Logika\n",
    "\n",
    "input1 = int(input(\"Input First value\"))\n",
    "input2 = int(input(\"Input Second value\"))\n",
    "\n",
    "print(input1 and input2)\n",
    "print(input1 or input2)\n",
    "print(not(input1))\n",
    "print(not(input1 or input2))\n",
    "print(not(input1 and input2))"
   ]
  },
  {
   "cell_type": "code",
   "execution_count": 15,
   "id": "4ec360f6-fa40-4720-abc7-e96e7f1591ac",
   "metadata": {},
   "outputs": [
    {
     "name": "stdout",
     "output_type": "stream",
     "text": [
      "Address of the first variable 140712253336280\n",
      "Address of the first variable 2328628095920\n",
      "Address of the first variable 2328628095920\n",
      "False\n",
      "True\n",
      "False\n"
     ]
    }
   ],
   "source": [
    "#Identity\n",
    "\n",
    "nuts1 = 10 \n",
    "nuts2 = \"10\"\n",
    "nuts3 = nuts2\n",
    "\n",
    "print(\"Address of the first variable\",id(nuts1))\n",
    "print(\"Address of the first variable\",id(nuts2))\n",
    "print(\"Address of the first variable\",id(nuts3))\n",
    "\n",
    "print(nuts1 is nuts2)\n",
    "print(nuts3 is nuts2)\n",
    "print(nuts3 is not nuts2)"
   ]
  },
  {
   "cell_type": "code",
   "execution_count": 17,
   "id": "83bae9e2-585e-4bd9-91e8-283113b7fc17",
   "metadata": {},
   "outputs": [
    {
     "name": "stdout",
     "output_type": "stream",
     "text": [
      "True\n",
      "True\n",
      "False\n",
      "False\n"
     ]
    }
   ],
   "source": [
    "#Keanggotaan\n",
    "\n",
    "OP = \"Akira\"\n",
    "member = \"Guns\"\n",
    "print(\"i\" in OP)\n",
    "\n",
    "group = [\"Akira\", \"Guns\", \"santoso\"]\n",
    "\n",
    "print(OP in group)\n",
    "print(\"toni\" in group)\n",
    "print(\"devun\" in group)"
   ]
  },
  {
   "cell_type": "code",
   "execution_count": 19,
   "id": "576494ea-a13c-4f13-8400-f4666b1dc797",
   "metadata": {},
   "outputs": [
    {
     "name": "stdin",
     "output_type": "stream",
     "text": [
      "Input The First Value 3\n",
      "Input The Second Value 6\n"
     ]
    },
    {
     "name": "stdout",
     "output_type": "stream",
     "text": [
      "0b11\n",
      "0b110\n",
      "------------------\n",
      "0b10 = 2\n",
      "\n",
      "0b11\n",
      "0b110\n",
      "-----------|\n",
      "0b111 = 7\n",
      "\n",
      "0b11\n",
      "0b110\n",
      "-----------^\n",
      "0b101 = 5\n",
      "\n",
      "0b11 Binary Shift to the left 6 times\n",
      "0b11000000 = 192\n",
      "\n",
      "0b11 Binary Shift to the right 6 times\n",
      "0b0 = 0\n"
     ]
    }
   ],
   "source": [
    "#bitwise\n",
    "\n",
    "value1 = int(input(\"Input The First Value\"))\n",
    "value2 = int(input(\"Input The Second Value\"))\n",
    "\n",
    "print(bin(value1))\n",
    "print(bin(value2))\n",
    "print(\"------------------&\")\n",
    "print(bin(value1 & value2), \"=\", value1 & value2)\n",
    "print()\n",
    "\n",
    "print(bin(value1))\n",
    "print(bin(value2))\n",
    "print(\"-----------|\")\n",
    "print(bin(value1 | value2), \"=\", value1 | value2)\n",
    "print()\n",
    "\n",
    "print(bin(value1))\n",
    "print(bin(value2))\n",
    "print(\"-----------^\")\n",
    "print(bin(value1 ^ value2), \"=\", value1 ^ value2)\n",
    "print()\n",
    "\n",
    "print(bin(value1),\"Binary Shift to the left\", value2, \"times\")\n",
    "print(bin(value1 << value2), \"=\", value1 << value2)\n",
    "print()\n",
    "\n",
    "print(bin(value1),\"Binary Shift to the right\", value2, \"times\")\n",
    "print(bin(value1 >> value2), \"=\", value1 >> value2)"
   ]
  },
  {
   "cell_type": "code",
   "execution_count": 31,
   "id": "afc89a05-f0b0-43d1-9ca1-3597a4ffd480",
   "metadata": {},
   "outputs": [
    {
     "name": "stdin",
     "output_type": "stream",
     "text": [
      "Input Value -5\n"
     ]
    },
    {
     "name": "stdout",
     "output_type": "stream",
     "text": [
      "Odd\n"
     ]
    }
   ],
   "source": [
    "#Tenary\n",
    "\n",
    "value1 = int(input(\"Input Value\"))\n",
    "\n",
    "finalValue = value1 % 2\n",
    "print(\"Even\" if finalValue == 0 else \"Odd\")"
   ]
  },
  {
   "cell_type": "code",
   "execution_count": 33,
   "id": "da5589a4-7853-404b-9b88-7ec46184d096",
   "metadata": {},
   "outputs": [
    {
     "name": "stdout",
     "output_type": "stream",
     "text": [
      "Piscok : 13000\n",
      "Kolak : 7000\n",
      "esBuah : 15000\n"
     ]
    },
    {
     "name": "stdin",
     "output_type": "stream",
     "text": [
      "Jumlah Pisang yang akan dibeli 4\n",
      "Jumlah kolak yang akan dibeli 3\n",
      "Jumlah esBuah yang akan dibeli 7\n"
     ]
    },
    {
     "name": "stdout",
     "output_type": "stream",
     "text": [
      "piscok 4 * 13000 = 52000\n",
      "piscok 3 * 7000 = 21000\n",
      "piscok 7 * 15000 = 105000\n",
      "--------------------------\n",
      "Total Belanja 178000\n",
      "Diskon : 5 % --> 8900.0\n",
      "Total Bayar 169100.0\n"
     ]
    }
   ],
   "source": [
    "#tugas\n",
    "\n",
    "piscok = 13000\n",
    "kolak = 7000\n",
    "esBuah = 15000\n",
    "\n",
    "\n",
    "\n",
    "print(\"Piscok :\", piscok)\n",
    "print(\"Kolak :\", kolak)\n",
    "print(\"esBuah :\", esBuah)\n",
    "\n",
    "jumlahPiscok = int(input(\"Jumlah Pisang yang akan dibeli\"))\n",
    "jumlahKolak= int(input(\"Jumlah kolak yang akan dibeli\"))\n",
    "jumlahEsBuah= int(input(\"Jumlah esBuah yang akan dibeli\"))\n",
    "\n",
    "print(\"piscok\", jumlahPiscok, \"*\", piscok,\"=\", jumlahPiscok*piscok) \n",
    "print(\"piscok\", jumlahKolak, \"*\", kolak,\"=\", jumlahKolak*kolak) \n",
    "print(\"piscok\", jumlahEsBuah, \"*\", esBuah,\"=\", jumlahEsBuah*esBuah)\n",
    "print(\"--------------------------\")\n",
    "totalBelanja = jumlahPiscok*piscok+ jumlahKolak*kolak+jumlahEsBuah*esBuah\n",
    "print(\"Total Belanja\", totalBelanja)\n",
    "discount = 5 if totalBelanja > 25000 else 0\n",
    "print(\"Diskon :\", discount, \"%\", \"-->\", totalBelanja*(discount/100))\n",
    "print(\"Total Bayar\",  totalBelanja-(totalBelanja*(discount/100))) \n"
   ]
  },
  {
   "cell_type": "code",
   "execution_count": null,
   "id": "137de26d-7a01-4bcb-85c6-b507fa19a2c8",
   "metadata": {},
   "outputs": [],
   "source": []
  }
 ],
 "metadata": {
  "kernelspec": {
   "display_name": "Python 3 (ipykernel)",
   "language": "python",
   "name": "python3"
  },
  "language_info": {
   "codemirror_mode": {
    "name": "ipython",
    "version": 3
   },
   "file_extension": ".py",
   "mimetype": "text/x-python",
   "name": "python",
   "nbconvert_exporter": "python",
   "pygments_lexer": "ipython3",
   "version": "3.12.7"
  }
 },
 "nbformat": 4,
 "nbformat_minor": 5
}
