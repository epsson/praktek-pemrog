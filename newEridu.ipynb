{
 "cells": [
  {
   "cell_type": "code",
   "execution_count": 15,
   "id": "be017229",
   "metadata": {},
   "outputs": [
    {
     "name": "stdout",
     "output_type": "stream",
     "text": [
      "Nama : ibnu\n",
      "Alamat : jl. Cikole\n",
      "Umur : 19\n",
      "score : 90.5\n",
      "Status : True\n",
      "provinsi : 49848654\n"
     ]
    }
   ],
   "source": [
    "name = \"ibnu\"\n",
    "address,province = \"jl. Cikole\",\"49848654\"\n",
    "age = 19\n",
    "scorePython = 90.5\n",
    "isMarried = True\n",
    "\n",
    "print(\"Nama :\",name)\n",
    "print(\"Alamat :\",address)\n",
    "print(\"Umur :\",age)\n",
    "print(\"score :\",scorePython)\n",
    "print(\"Status :\",isMarried)\n",
    "print(\"provinsi :\",province)"
   ]
  },
  {
   "cell_type": "code",
   "execution_count": 9,
   "id": "daa79866",
   "metadata": {
    "scrolled": true
   },
   "outputs": [
    {
     "name": "stdout",
     "output_type": "stream",
     "text": [
      "tipe data <nama>       : <class 'str'>\n",
      "tipe data <Alamat>     : <class 'str'>\n",
      "tipe data <Umur>       : <class 'int'>\n",
      "tipe data <scorePython>: <class 'float'>\n",
      "tipe data <Status>     : <class 'bool'>\n"
     ]
    }
   ],
   "source": [
    "print(\"tipe data <nama>       :\",type(name))\n",
    "print(\"tipe data <Alamat>     :\",type(address))\n",
    "print(\"tipe data <Umur>       :\",type(age))\n",
    "print(\"tipe data <scorePython>:\",type(scorePython))\n",
    "print(\"tipe data <Status>     :\",type(isMarried))\n"
   ]
  },
  {
   "cell_type": "code",
   "execution_count": 23,
   "id": "98376e3e",
   "metadata": {
    "scrolled": true
   },
   "outputs": [
    {
     "name": "stdout",
     "output_type": "stream",
     "text": [
      "True  49848654.0  49848654\n",
      "True  19.0  19\n",
      "19  19.0  True\n",
      "19  19.0  True\n"
     ]
    }
   ],
   "source": [
    "#casting / konvensi tipe data\n",
    "#1. dari string ke boolean\n",
    "strToInt = int(province)\n",
    "strToFloat = float(province)\n",
    "strToBool = bool(province)\n",
    "print(strToBool,strToFloat,strToInt, sep=\"  \")\n",
    "#2. interger ke (str, bool, float)\n",
    "intToStr = int(age)\n",
    "intToFloat = float(age)\n",
    "intToBool = bool(age)\n",
    "print(intToBool,intToFloat,intToStr, sep=\"  \")\n",
    "#3. bool ke (str, int, float)\n",
    "boolToStr = int(age)\n",
    "boolToInt = float(age)\n",
    "boolToFloat = bool(age)\n",
    "print(boolToStr,boolToInt,boolToFloat, sep=\"  \")\n",
    "\n",
    "#4. float ke (str, bool, int)\n",
    "floatToStr = int(age)\n",
    "floatToInt = float(age)\n",
    "floatToBool = bool(age)\n",
    "print(boolToStr,boolToInt,boolToFloat, sep=\"  \")"
   ]
  },
  {
   "cell_type": "code",
   "execution_count": 33,
   "id": "537a5b12",
   "metadata": {},
   "outputs": [
    {
     "name": "stdout",
     "output_type": "stream",
     "text": [
      "Nilai decimal: 500\n",
      "Nilai Biner: 10\n",
      "Nilai octal: 255\n",
      "Nilai hexa: 255\n",
      "Nilai biner dari 500 : 0b111110100\n",
      "Nilai octal dari 500 : 0o764\n",
      "Nilai hexa dari 500 : 0x1f4\n",
      "Nilai decimal dari 255 : 255\n",
      "Nilai octal dari 255 : 0o377\n",
      "Nilai biner dari 255 : 0b11111111\n"
     ]
    }
   ],
   "source": [
    "#tipe data berbasis bilangan\n",
    "\n",
    "desimal = 500 \n",
    "biner = 0b1010 #10\n",
    "octal = 0o377 #255\n",
    "hexa = 0xff #255\n",
    "\n",
    "print(\"Nilai decimal:\", desimal)\n",
    "print(\"Nilai Biner:\", biner)\n",
    "print(\"Nilai octal:\", octal)\n",
    "print(\"Nilai hexa:\", hexa)\n",
    "\n",
    "print(\"Nilai biner dari\",desimal,\":\", bin(desimal))\n",
    "print(\"Nilai octal dari\",desimal,\":\", oct(desimal))\n",
    "print(\"Nilai hexa dari\",desimal,\":\", hex(desimal))\n",
    "\n",
    "#tipe ke hexa\n",
    "print(\"Nilai decimal dari\",hexa,\":\", hexa)\n",
    "print(\"Nilai octal dari\",hexa,\":\", oct(hexa))\n",
    "print(\"Nilai biner dari\",hexa,\":\", bin(hexa))\n"
   ]
  },
  {
   "cell_type": "code",
   "execution_count": 42,
   "id": "823d1b12",
   "metadata": {},
   "outputs": [
    {
     "name": "stdout",
     "output_type": "stream",
     "text": [
      "M\n",
      "8\n",
      "R\n"
     ]
    }
   ],
   "source": [
    "\n",
    "city = \"MAKASSAR\"\n",
    "length=len(city)\n",
    "print(city[0])\n",
    "print(length)\n",
    "print(city[length-1])"
   ]
  },
  {
   "cell_type": "code",
   "execution_count": 66,
   "id": "9bbaa4e6",
   "metadata": {},
   "outputs": [
    {
     "name": "stdout",
     "output_type": "stream",
     "text": [
      "['bandung', 'sukabumi', 'bogor']\n",
      "bandung\n",
      "bogor\n",
      "b\n",
      "r\n",
      "['jawa', 'sukabumi', 'bogor']\n",
      "('ibnu', 'ilham', 'rapi', 'rapa')\n",
      "rapi\n",
      "{'name': 'ibnu', 'address': {'street': 'cikole', 'number': 14, 'province': 'Jawa Barat'}, 'age': 19, 'isMrried': True, 'hobbies': ['anime', 'game']}\n",
      "19\n",
      "Jawa Barat\n",
      "anime\n"
     ]
    }
   ],
   "source": [
    "#tipe data collection\n",
    "\n",
    "cities = [\"bandung\",\"sukabumi\",\"bogor\"]\n",
    "lengthCities = len(cities)\n",
    "print(cities)\n",
    "print(cities[0])\n",
    "print(cities[lengthCities-1])\n",
    "print(cities[lengthCities-1][0])\n",
    "print(cities[lengthCities-1][len(cities[lengthCities-1])-1])\n",
    "cities[0]=\"jawa\"\n",
    "print(cities)\n",
    "\n",
    "names=(\"ibnu\",\"ilham\",\"rapi\",\"rapa\")\n",
    "print(names)\n",
    "print(names[2])\n",
    "\n",
    "studentData = {\n",
    "    \"name\" : \"ibnu\",\n",
    "    \"address\" : {\n",
    "        \"street\":\"cikole\",\n",
    "        \"number\": 14,\n",
    "        \"province\":\"Jawa Barat\"\n",
    "    },\n",
    "    \"age\" : 19,\n",
    "    \"isMrried\" : True,\n",
    "    \"hobbies\": [\"anime\", \"game\"]\n",
    "}\n",
    "\n",
    "print(studentData)\n",
    "print(studentData[\"age\"])\n",
    "print(studentData[\"address\"][\"province\"])\n",
    "print(studentData[\"hobbies\"][0])\n",
    "\n",
    "studentList[\n",
    "    {\n",
    "    \"name\" : \"ibnu\",\n",
    "    \"address\" : {\n",
    "        \"street\":\"cikole\",\n",
    "        \"number\": 14,\n",
    "        \"province\":\"Jawa Barat\"\n",
    "    },\n",
    "    \"age\" : 19,\n",
    "    \"isMrried\" : True,\n",
    "    \"hobbies\": [\"anime\", \"game\"]\n",
    "    }\n",
    "\n",
    "    \n",
    "]\n"
   ]
  },
  {
   "cell_type": "code",
   "execution_count": null,
   "id": "a71d4eb4",
   "metadata": {},
   "outputs": [],
   "source": []
  }
 ],
 "metadata": {
  "kernelspec": {
   "display_name": "Python 3 (ipykernel)",
   "language": "python",
   "name": "python3"
  },
  "language_info": {
   "codemirror_mode": {
    "name": "ipython",
    "version": 3
   },
   "file_extension": ".py",
   "mimetype": "text/x-python",
   "name": "python",
   "nbconvert_exporter": "python",
   "pygments_lexer": "ipython3",
   "version": "3.9.12"
  }
 },
 "nbformat": 4,
 "nbformat_minor": 5
}
