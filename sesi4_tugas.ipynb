{
 "cells": [
  {
   "cell_type": "code",
   "execution_count": 7,
   "id": "08a99cdc-1f5f-45f2-8307-046338c5f91c",
   "metadata": {},
   "outputs": [
    {
     "name": "stdout",
     "output_type": "stream",
     "text": [
      "sisa bagi rata apel yang budi berikan kepada teman-temannya adalah 0\n",
      "budi menambahkan 8 apel menjadi total 8 buah apel\n"
     ]
    }
   ],
   "source": [
    "# Operator Aritmatika\n",
    "budi = 12\n",
    "temanBudi = 4\n",
    "\n",
    "bagiRata = budi%temanBudi\n",
    "budi = bagiRata\n",
    "print(\"sisa bagi rata apel yang budi berikan kepada teman-temannya adalah\",budi)\n",
    "budi += 8\n",
    "print(\"budi menambahkan 8 apel menjadi total\",budi,\"buah apel\")"
   ]
  },
  {
   "cell_type": "code",
   "execution_count": 51,
   "id": "cdeefed9-44af-4e1b-b0fa-76a25fffe7b7",
   "metadata": {},
   "outputs": [
    {
     "name": "stdout",
     "output_type": "stream",
     "text": [
      "apakah tinggi andi lebih pendek dari tinggi siti? False\n"
     ]
    }
   ],
   "source": [
    "# Operator Perbandingan\n",
    "andi = 165\n",
    "siti = 160\n",
    "banding = siti > andi\n",
    "print(\"apakah tinggi andi lebih pendek dari tinggi siti?\",banding)"
   ]
  },
  {
   "cell_type": "code",
   "execution_count": 13,
   "id": "853e7402-e311-49d2-a05c-59da4d9f1b40",
   "metadata": {},
   "outputs": [
    {
     "name": "stdout",
     "output_type": "stream",
     "text": [
      "apakah budi bisa bermain? True\n"
     ]
    }
   ],
   "source": [
    "# Operator Logika\n",
    "budiSelesaiPr = True\n",
    "cuacaCerah = True\n",
    "\n",
    "hasil = budiSelesaiPr and cuacaCerah\n",
    "print(\"apakah budi bisa bermain?\",hasil)"
   ]
  },
  {
   "cell_type": "code",
   "execution_count": 15,
   "id": "e72f2ea2-ecdb-469e-a53d-8de0656455bf",
   "metadata": {},
   "outputs": [
    {
     "name": "stdout",
     "output_type": "stream",
     "text": [
      "hasil dari 6 AND 3 adalah 2\n",
      "hasil dari 6 OR 3 adalah 7\n",
      "hasil dari 6 XOR 3 adalah 5\n"
     ]
    }
   ],
   "source": [
    "# Operator Bitwise\n",
    "x = 6\n",
    "y = 3\n",
    "\n",
    "hasilAnd = x & y\n",
    "hasilOr = x | y\n",
    "hasilXor = x ^ y\n",
    "print(\"hasil dari 6 AND 3 adalah\",hasilAnd)\n",
    "print(\"hasil dari 6 OR 3 adalah\",hasilOr)\n",
    "print(\"hasil dari 6 XOR 3 adalah\",hasilXor)"
   ]
  },
  {
   "cell_type": "code",
   "execution_count": 21,
   "id": "82ece72c-ab23-45a9-b8b0-c641e3c7cee2",
   "metadata": {},
   "outputs": [
    {
     "name": "stdout",
     "output_type": "stream",
     "text": [
      "pulsa awal 50000\n",
      "pulsa habis ditambahkan dengan 20000 70000\n",
      "pulsa habis dikurangkan dengan 50000 20000\n"
     ]
    }
   ],
   "source": [
    "# Operator penugasan\n",
    "pulsa = 50000\n",
    "print(\"pulsa awal\",pulsa)\n",
    "pulsa += 20000\n",
    "print(\"pulsa habis ditambahkan dengan 20000\",pulsa)\n",
    "pulsa -= 50000\n",
    "print(\"pulsa habis dikurangkan dengan 50000\",pulsa)"
   ]
  },
  {
   "cell_type": "code",
   "execution_count": 33,
   "id": "de991578-ab58-43cf-85a3-0ef49703ca27",
   "metadata": {},
   "outputs": [
    {
     "name": "stdout",
     "output_type": "stream",
     "text": [
      "True\n",
      "False\n",
      "True\n"
     ]
    }
   ],
   "source": [
    "# Operator Keanggotaan\n",
    "perserta = [\"budi\",\"siti\",\"andi\", \"eka\"]\n",
    "print(\"eka\" in perserta)\n",
    "kalimat = \"Saya suka belajar python\"\n",
    "print(\"java\" in kalimat)\n",
    "kalimat = \"Saya suka belajar python\"\n",
    "print(\"python\" in kalimat)"
   ]
  },
  {
   "cell_type": "code",
   "execution_count": 43,
   "id": "4ec7d2cb-3b23-4f0a-a280-407dd01ed854",
   "metadata": {},
   "outputs": [
    {
     "name": "stdout",
     "output_type": "stream",
     "text": [
      "True\n",
      "False\n"
     ]
    }
   ],
   "source": [
    "# Operator Identitas\n",
    "x = 9\n",
    "y = 9\n",
    "\n",
    "print(x is y)\n",
    "\n",
    "listOne = [1,2,3]\n",
    "listTwo = [1,2,3]\n",
    "print(listOne is listTwo)"
   ]
  },
  {
   "cell_type": "code",
   "execution_count": 49,
   "id": "dee2b7a0-07db-4180-b599-a0325a4e7950",
   "metadata": {},
   "outputs": [
    {
     "name": "stdin",
     "output_type": "stream",
     "text": [
      "Masukkan nilai x:  101\n"
     ]
    },
    {
     "name": "stdout",
     "output_type": "stream",
     "text": [
      "Lebih besar\n"
     ]
    },
    {
     "name": "stdin",
     "output_type": "stream",
     "text": [
      "Masukkan nilai:  90\n"
     ]
    },
    {
     "name": "stdout",
     "output_type": "stream",
     "text": [
      "Lulus\n"
     ]
    }
   ],
   "source": [
    "# Operator Ternary\n",
    "x = int(input(\"Masukkan nilai x: \")) \n",
    "hasil = \"Lebih kecil\" if x < 100 else \"Lebih besar\"\n",
    "print(hasil)\n",
    "\n",
    "nilai = int(input(\"Masukkan nilai: \"))\n",
    "evaluasi = \"Lulus\" if nilai > 70 else \"Tidak lulus\"\n",
    "\n",
    "print(evaluasi)"
   ]
  },
  {
   "cell_type": "code",
   "execution_count": null,
   "id": "c7b48811-3b75-484d-9b54-a4b310986a98",
   "metadata": {},
   "outputs": [],
   "source": []
  }
 ],
 "metadata": {
  "kernelspec": {
   "display_name": "Python [conda env:base] *",
   "language": "python",
   "name": "conda-base-py"
  },
  "language_info": {
   "codemirror_mode": {
    "name": "ipython",
    "version": 3
   },
   "file_extension": ".py",
   "mimetype": "text/x-python",
   "name": "python",
   "nbconvert_exporter": "python",
   "pygments_lexer": "ipython3",
   "version": "3.12.7"
  }
 },
 "nbformat": 4,
 "nbformat_minor": 5
}
