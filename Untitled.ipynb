{
 "cells": [
  {
   "cell_type": "code",
   "execution_count": null,
   "id": "4ed4611a",
   "metadata": {},
   "outputs": [
    {
     "name": "stdout",
     "output_type": "stream",
     "text": [
      "\n",
      "--- Menu ---\n",
      "1. Tambah\n",
      "2. Tampil\n",
      "3. Keluar\n",
      "Pilih (1/2/3): 1\n",
      "\n",
      "--- Tambah Data ---\n",
      "NIM (11 digit): 102030\n",
      "NIM 11 digit!\n",
      "NIM (11 digit): 10010010034\n",
      "NAMA (min 6): raffamustari\n",
      "ALAMAT (min 10): baros utama\n",
      "KELAS (TI24H/TI24A/TI24G/TI24F): ti24h\n",
      "Data ditambahkan!\n",
      "\n",
      "--- Menu ---\n",
      "1. Tambah\n",
      "2. Tampil\n",
      "3. Keluar\n",
      "Pilih (1/2/3): 2\n",
      "\n",
      "--- Tampil Data ---\n",
      "\n",
      "[1] NIM: 10010010034, NAMA: raffamustari, ALAMAT: baros utama, KELAS: TI24H\n",
      "\n",
      "--- Menu ---\n",
      "1. Tambah\n",
      "2. Tampil\n",
      "3. Keluar\n"
     ]
    }
   ],
   "source": [
    "student_data = []\n",
    "\n",
    "while True:\n",
    "    print(\"\\n--- Menu ---\")\n",
    "    print(\"1. Tambah\")\n",
    "    print(\"2. Tampil\")\n",
    "    print(\"3. Keluar\")\n",
    "    choice = input(\"Pilih (1/2/3): \")\n",
    "\n",
    "    if choice == '1':\n",
    "        print(\"\\n--- Tambah Data ---\")\n",
    "        while True:\n",
    "            nim = input(\"NIM (11 digit): \"); \n",
    "            if len(nim) == 11 and nim.isdigit(): break\n",
    "            else: print(\"NIM 11 digit!\")\n",
    "        \n",
    "        while True:\n",
    "            nama = input(\"NAMA (min 6): \"); \n",
    "            if len(nama) >= 6: break\n",
    "            else: print(\"Nama min 6!\")\n",
    "        \n",
    "        while True:\n",
    "            alamat = input(\"ALAMAT (min 10): \"); \n",
    "            if len(alamat) >= 10: break\n",
    "            else: print(\"Alamat min 10!\")\n",
    "        \n",
    "        valid_kelas = [\"TI24H\", \"TI24A\", \"TI24G\", \"TI24F\"]\n",
    "        while True:\n",
    "            kelas = input(f\"KELAS ({'/'.join(valid_kelas)}): \").upper(); \n",
    "            if kelas in valid_kelas: break\n",
    "            else: print(\"Kelas tidak valid!\")\n",
    "        \n",
    "        student_data.append({'NIM': nim, 'NAMA': nama, 'ALAMAT': alamat, 'KELAS': kelas})\n",
    "        print(\"Data ditambahkan!\")\n",
    "\n",
    "    elif choice == '2':\n",
    "        print(\"\\n--- Tampil Data ---\")\n",
    "        if not student_data: print(\"Belum ada data.\")\n",
    "        else:\n",
    "            for i, s in enumerate(student_data):\n",
    "                print(f\"\\n[{i+1}] NIM: {s['NIM']}, NAMA: {s['NAMA']}, ALAMAT: {s['ALAMAT']}, KELAS: {s['KELAS']}\")\n",
    "                \n",
    "    elif choice == '3':\n",
    "        print(\"Selesai.\")\n",
    "        break\n",
    "    else:\n",
    "        print(\"Pilihan tidak valid.\")"
   ]
  },
  {
   "cell_type": "code",
   "execution_count": null,
   "id": "0110e380",
   "metadata": {},
   "outputs": [],
   "source": []
  }
 ],
 "metadata": {
  "kernelspec": {
   "display_name": "Python 3 (ipykernel)",
   "language": "python",
   "name": "python3"
  },
  "language_info": {
   "codemirror_mode": {
    "name": "ipython",
    "version": 3
   },
   "file_extension": ".py",
   "mimetype": "text/x-python",
   "name": "python",
   "nbconvert_exporter": "python",
   "pygments_lexer": "ipython3",
   "version": "3.9.12"
  }
 },
 "nbformat": 4,
 "nbformat_minor": 5
}
