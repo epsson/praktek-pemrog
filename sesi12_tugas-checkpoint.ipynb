{
 "cells": [
  {
   "cell_type": "code",
   "execution_count": 2,
   "id": "5adffb1c-9339-42f8-897f-336b594516ba",
   "metadata": {},
   "outputs": [],
   "source": [
    "import numpy as np\n",
    "import pandas as pd"
   ]
  },
  {
   "cell_type": "code",
   "execution_count": 23,
   "id": "7faed0dc-9d2e-4277-a283-e81cc0562faf",
   "metadata": {},
   "outputs": [
    {
     "data": {
      "text/plain": [
       "(   umur    gaji tingkat_edukasi  pengalaman per tahun  gender status nikah  \\\n",
       " 0    55  501652              S2                    11  Wanita        Tidak   \n",
       " 1    55  515844             SMA                    38    Pria        Tidak   \n",
       " 2    63  498992              S1                    29  Wanita           Ya   \n",
       " 3    63  499349              S3                    26  Wanita           Ya   \n",
       " 4    30  490489              S1                     2    Pria           Ya   \n",
       " \n",
       "   kendaraan mobil  skor kredit  skor pengeluaran  pembayaran  \n",
       " 0              Ya          397                25           1  \n",
       " 1           Tidak          596                40           0  \n",
       " 2              Ya          748                20           0  \n",
       " 3           Tidak          482                62           1  \n",
       " 4           Tidak          608                24           0  ,\n",
       "                umur           gaji tingkat_edukasi  pengalaman per tahun  \\\n",
       " count   1000.000000    1000.000000            1000           1000.000000   \n",
       " unique          NaN            NaN               5                   NaN   \n",
       " top             NaN            NaN              S3                   NaN   \n",
       " freq            NaN            NaN             208                   NaN   \n",
       " mean      41.757000  499879.390000             NaN             19.685000   \n",
       " std       13.498302   15030.481245             NaN             11.428665   \n",
       " min       18.000000  453190.000000             NaN              0.000000   \n",
       " 25%       30.750000  489731.500000             NaN             10.000000   \n",
       " 50%       42.000000  499968.500000             NaN             20.000000   \n",
       " 75%       54.000000  510144.000000             NaN             30.000000   \n",
       " max       64.000000  545128.000000             NaN             39.000000   \n",
       " \n",
       "         gender status nikah kendaraan mobil  skor kredit  skor pengeluaran  \\\n",
       " count     1000         1000            1000  1000.000000        1000.00000   \n",
       " unique       2            2               2          NaN               NaN   \n",
       " top     Wanita        Tidak              Ya          NaN               NaN   \n",
       " freq       513          511             502          NaN               NaN   \n",
       " mean       NaN          NaN             NaN   575.772000          50.33200   \n",
       " std        NaN          NaN             NaN   157.500261          28.25176   \n",
       " min        NaN          NaN             NaN   300.000000           1.00000   \n",
       " 25%        NaN          NaN             NaN   442.000000          26.00000   \n",
       " 50%        NaN          NaN             NaN   578.500000          49.00000   \n",
       " 75%        NaN          NaN             NaN   705.000000          74.00000   \n",
       " max        NaN          NaN             NaN   849.000000          99.00000   \n",
       " \n",
       "          pembayaran  \n",
       " count   1000.000000  \n",
       " unique          NaN  \n",
       " top             NaN  \n",
       " freq            NaN  \n",
       " mean       0.497000  \n",
       " std        0.500241  \n",
       " min        0.000000  \n",
       " 25%        0.000000  \n",
       " 50%        0.000000  \n",
       " 75%        1.000000  \n",
       " max        1.000000  )"
      ]
     },
     "execution_count": 23,
     "metadata": {},
     "output_type": "execute_result"
    }
   ],
   "source": [
    "np.random.seed(30)\n",
    "\n",
    "# Jumlah data\n",
    "Jd = 1000\n",
    "\n",
    "data = {\n",
    "    \"umur\": np.random.randint(18, 65, size=Jd),\n",
    "    \"gaji\": np.random.normal(500000, 15000, size=Jd).astype(int),\n",
    "    \"tingkat_edukasi\": np.random.choice([\"SMA\", \"D3\", \"S1\", \"S2\", \"S3\"], size=Jd),\n",
    "    \"pengalaman per tahun\": np.random.randint(0, 40, size=Jd),\n",
    "    \"gender\": np.random.choice([\"Pria\", \"Wanita\"], size=Jd),\n",
    "    \"status nikah\": np.random.choice([\"Ya\", \"Tidak\"], size=Jd),\n",
    "    \"kendaraan mobil\": np.random.choice([\"Ya\", \"Tidak\"], size=Jd),\n",
    "    \"skor kredit\": np.random.randint(300, 850, size=Jd),\n",
    "    \"skor pengeluaran\": np.random.randint(1, 100, size=Jd),\n",
    "    \"pembayaran\": np.random.choice([0, 1], size=n),  # 0: tidak beli, 1: beli\n",
    "}\n",
    "\n",
    "# DataFrame\n",
    "df = pd.DataFrame(data)\n",
    "\n",
    "# Analisis statistik sederhana\n",
    "stats = df.describe(include='all')\n",
    "\n",
    "df.head(), stats"
   ]
  },
  {
   "cell_type": "code",
   "execution_count": null,
   "id": "d7686c4e-b335-412a-8953-bd78fe4b2a23",
   "metadata": {},
   "outputs": [],
   "source": []
  },
  {
   "cell_type": "code",
   "execution_count": null,
   "id": "147669b7-2922-49bd-9d2a-f462e6ce3970",
   "metadata": {},
   "outputs": [],
   "source": []
  }
 ],
 "metadata": {
  "kernelspec": {
   "display_name": "Python [conda env:base] *",
   "language": "python",
   "name": "conda-base-py"
  },
  "language_info": {
   "codemirror_mode": {
    "name": "ipython",
    "version": 3
   },
   "file_extension": ".py",
   "mimetype": "text/x-python",
   "name": "python",
   "nbconvert_exporter": "python",
   "pygments_lexer": "ipython3",
   "version": "3.12.7"
  }
 },
 "nbformat": 4,
 "nbformat_minor": 5
}
